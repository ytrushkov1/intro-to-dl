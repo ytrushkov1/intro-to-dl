{
 "cells": [
  {
   "cell_type": "markdown",
   "metadata": {},
   "source": [
    "# Getting deeper with Keras\n",
    "* Tensorflow is a powerful and flexible tool, but coding large neural architectures with it is tedious.\n",
    "* There are plenty of deep learning toolkits that work on top of it like Slim, TFLearn, Sonnet, Keras.\n",
    "* Choice is matter of taste and particular task\n",
    "* We'll be using Keras"
   ]
  },
  {
   "cell_type": "code",
   "execution_count": 107,
   "metadata": {},
   "outputs": [],
   "source": [
    "from datetime import datetime"
   ]
  },
  {
   "cell_type": "code",
   "execution_count": 27,
   "metadata": {},
   "outputs": [],
   "source": [
    "import sys\n",
    "sys.path.append(\"..\")\n",
    "import grading"
   ]
  },
  {
   "cell_type": "code",
   "execution_count": 109,
   "metadata": {},
   "outputs": [],
   "source": [
    "! killall tensorboard\n",
    "import os\n",
    "os.system(\"tensorboard --logdir=/tmp/tboard --port=7007 &\");"
   ]
  },
  {
   "cell_type": "code",
   "execution_count": 28,
   "metadata": {},
   "outputs": [
    {
     "name": "stdout",
     "output_type": "stream",
     "text": [
      "ln: failed to create symbolic link '/home/yuri/.keras/datasets/cifar-10-batches-py.tar.gz': File exists\n",
      "ln: failed to create symbolic link '/home/yuri/.keras/datasets/mnist.npz': File exists\n",
      "ln: failed to create symbolic link '/home/yuri/.keras/models/inception_v3_weights_tf_dim_ordering_tf_kernels_notop.h5': File exists\n"
     ]
    }
   ],
   "source": [
    "# use preloaded keras datasets and models\n",
    "! mkdir -p ~/.keras/datasets\n",
    "! mkdir -p ~/.keras/models\n",
    "! ln -s $(realpath ../readonly/keras/datasets/*) ~/.keras/datasets/\n",
    "! ln -s $(realpath ../readonly/keras/models/*) ~/.keras/models/"
   ]
  },
  {
   "cell_type": "code",
   "execution_count": 29,
   "metadata": {},
   "outputs": [],
   "source": [
    "import numpy as np\n",
    "from preprocessed_mnist import load_dataset\n",
    "import keras\n",
    "X_train, y_train, X_val, y_val, X_test, y_test = load_dataset()\n",
    "y_train,y_val,y_test = map(keras.utils.np_utils.to_categorical,[y_train,y_val,y_test])"
   ]
  },
  {
   "cell_type": "code",
   "execution_count": 30,
   "metadata": {
    "scrolled": true
   },
   "outputs": [
    {
     "data": {
      "image/png": "[encoded data removed]",
      "text/plain": [
       "<Figure size 432x288 with 1 Axes>"
      ]
     },
     "metadata": {},
     "output_type": "display_data"
    }
   ],
   "source": [
    "import matplotlib.pyplot as plt\n",
    "%matplotlib inline\n",
    "plt.imshow(X_train[0]);"
   ]
  },
  {
   "cell_type": "markdown",
   "metadata": {},
   "source": [
    "## The pretty keras"
   ]
  },
  {
   "cell_type": "code",
   "execution_count": 31,
   "metadata": {},
   "outputs": [
    {
     "name": "stderr",
     "output_type": "stream",
     "text": [
      "/home/yuri/anaconda3/lib/python3.6/site-packages/tensorflow/python/client/session.py:1711: UserWarning: An interactive session is already active. This can cause out-of-memory errors in some cases. You must explicitly call `InteractiveSession.close()` to release resources held by the other session(s).\n",
      "  warnings.warn('An interactive session is already active. This can '\n"
     ]
    }
   ],
   "source": [
    "import tensorflow as tf\n",
    "s = tf.InteractiveSession()"
   ]
  },
  {
   "cell_type": "code",
   "execution_count": 32,
   "metadata": {},
   "outputs": [],
   "source": [
    "import keras\n",
    "from keras.models import Sequential\n",
    "import keras.layers as ll\n",
    "\n",
    "model = Sequential(name=\"mlp\")\n",
    "\n",
    "model.add(ll.InputLayer([28, 28]))\n",
    "\n",
    "model.add(ll.Flatten())\n",
    "\n",
    "# network body\n",
    "model.add(ll.Dense(25))\n",
    "model.add(ll.Activation('linear'))\n",
    "\n",
    "model.add(ll.Dense(25))\n",
    "model.add(ll.Activation('linear'))\n",
    "\n",
    "# output layer: 10 neurons for each class with softmax\n",
    "model.add(ll.Dense(10, activation='softmax'))\n",
    "\n",
    "# categorical_crossentropy is your good old crossentropy\n",
    "# but applied for one-hot-encoded vectors\n",
    "model.compile(\"adam\", \"categorical_crossentropy\", metrics=[\"accuracy\"])"
   ]
  },
  {
   "cell_type": "code",
   "execution_count": 33,
   "metadata": {},
   "outputs": [
    {
     "name": "stdout",
     "output_type": "stream",
     "text": [
      "_________________________________________________________________\n",
      "Layer (type)                 Output Shape              Param #   \n",
      "=================================================================\n",
      "input_4 (InputLayer)         (None, 28, 28)            0         \n",
      "_________________________________________________________________\n",
      "flatten_4 (Flatten)          (None, 784)               0         \n",
      "_________________________________________________________________\n",
      "dense_10 (Dense)             (None, 25)                19625     \n",
      "_________________________________________________________________\n",
      "activation_7 (Activation)    (None, 25)                0         \n",
      "_________________________________________________________________\n",
      "dense_11 (Dense)             (None, 25)                650       \n",
      "_________________________________________________________________\n",
      "activation_8 (Activation)    (None, 25)                0         \n",
      "_________________________________________________________________\n",
      "dense_12 (Dense)             (None, 10)                260       \n",
      "=================================================================\n",
      "Total params: 20,535\n",
      "Trainable params: 20,535\n",
      "Non-trainable params: 0\n",
      "_________________________________________________________________\n"
     ]
    }
   ],
   "source": [
    "model.summary()"
   ]
  },
  {
   "cell_type": "markdown",
   "metadata": {},
   "source": [
    "### Model interface\n",
    "\n",
    "Keras models follow __Scikit-learn__'s interface of fit/predict with some notable extensions. Let's take a tour."
   ]
  },
  {
   "cell_type": "code",
   "execution_count": 34,
   "metadata": {},
   "outputs": [
    {
     "name": "stdout",
     "output_type": "stream",
     "text": [
      "Train on 50000 samples, validate on 10000 samples\n",
      "Epoch 1/15\n",
      "50000/50000 [==============================] - 9s 176us/step - loss: 0.4081 - acc: 0.8842 - val_loss: 0.2813 - val_acc: 0.9211\n",
      "Epoch 2/15\n",
      "50000/50000 [==============================] - 8s 166us/step - loss: 0.3003 - acc: 0.9152 - val_loss: 0.2698 - val_acc: 0.9262\n",
      "Epoch 3/15\n",
      "50000/50000 [==============================] - 8s 164us/step - loss: 0.2885 - acc: 0.9190 - val_loss: 0.2704 - val_acc: 0.9274\n",
      "Epoch 4/15\n",
      "50000/50000 [==============================] - 9s 172us/step - loss: 0.2814 - acc: 0.9195 - val_loss: 0.2728 - val_acc: 0.9245\n",
      "Epoch 5/15\n",
      "50000/50000 [==============================] - 9s 178us/step - loss: 0.2750 - acc: 0.9227 - val_loss: 0.2733 - val_acc: 0.9248\n",
      "Epoch 6/15\n",
      "50000/50000 [==============================] - 9s 174us/step - loss: 0.2720 - acc: 0.9232 - val_loss: 0.2732 - val_acc: 0.9259\n",
      "Epoch 7/15\n",
      "50000/50000 [==============================] - 8s 167us/step - loss: 0.2696 - acc: 0.9241 - val_loss: 0.2700 - val_acc: 0.9271\n",
      "Epoch 8/15\n",
      "50000/50000 [==============================] - 8s 169us/step - loss: 0.2668 - acc: 0.9252 - val_loss: 0.2655 - val_acc: 0.9288\n",
      "Epoch 9/15\n",
      "50000/50000 [==============================] - 9s 170us/step - loss: 0.2650 - acc: 0.9246 - val_loss: 0.2603 - val_acc: 0.9309\n",
      "Epoch 10/15\n",
      "50000/50000 [==============================] - 9s 171us/step - loss: 0.2622 - acc: 0.9253 - val_loss: 0.2748 - val_acc: 0.9259\n",
      "Epoch 11/15\n",
      "50000/50000 [==============================] - 8s 164us/step - loss: 0.2622 - acc: 0.9260 - val_loss: 0.2785 - val_acc: 0.9237\n",
      "Epoch 12/15\n",
      "50000/50000 [==============================] - 8s 168us/step - loss: 0.2591 - acc: 0.9273 - val_loss: 0.2665 - val_acc: 0.9269\n",
      "Epoch 13/15\n",
      "50000/50000 [==============================] - 9s 170us/step - loss: 0.2589 - acc: 0.9268 - val_loss: 0.2664 - val_acc: 0.9280\n",
      "Epoch 14/15\n",
      "50000/50000 [==============================] - 8s 167us/step - loss: 0.2569 - acc: 0.9278 - val_loss: 0.2706 - val_acc: 0.9251\n",
      "Epoch 15/15\n",
      "50000/50000 [==============================] - 9s 175us/step - loss: 0.2568 - acc: 0.9271 - val_loss: 0.2699 - val_acc: 0.9292\n"
     ]
    }
   ],
   "source": [
    "# fit(X,y) ships with a neat automatic logging.\n",
    "#          Highly customizable under the hood.\n",
    "model.fit(X_train, y_train,\n",
    "          validation_data=(X_val, y_val), epochs=15);"
   ]
  },
  {
   "cell_type": "code",
   "execution_count": 35,
   "metadata": {},
   "outputs": [
    {
     "data": {
      "text/plain": [
       "array([[1.6966229e-05, 2.1236406e-03, 3.5856504e-02, 9.2591190e-01,\n",
       "        8.9403733e-07, 1.0819340e-02, 6.7620940e-04, 1.1375442e-09,\n",
       "        2.4594158e-02, 4.2686787e-07],\n",
       "       [1.7006832e-06, 2.8298709e-06, 9.3857134e-03, 1.1075844e-02,\n",
       "        6.6495605e-04, 2.0656880e-02, 6.9133671e-06, 8.5552182e-07,\n",
       "        9.5814651e-01, 5.7784808e-05]], dtype=float32)"
      ]
     },
     "execution_count": 35,
     "metadata": {},
     "output_type": "execute_result"
    }
   ],
   "source": [
    "# estimate probabilities P(y|x)\n",
    "model.predict_proba(X_val[:2])"
   ]
  },
  {
   "cell_type": "code",
   "execution_count": 36,
   "metadata": {},
   "outputs": [],
   "source": [
    "# Save trained weights\n",
    "model.save(\"weights.h5\")"
   ]
  },
  {
   "cell_type": "code",
   "execution_count": 37,
   "metadata": {},
   "outputs": [
    {
     "name": "stdout",
     "output_type": "stream",
     "text": [
      "10000/10000 [==============================] - 1s 80us/step\n",
      "\n",
      "Loss, Accuracy =  [0.2892350155219436, 0.9244]\n"
     ]
    }
   ],
   "source": [
    "print(\"\\nLoss, Accuracy = \", model.evaluate(X_test, y_test))"
   ]
  },
  {
   "cell_type": "markdown",
   "metadata": {},
   "source": [
    "### Whoops!\n",
    "So far, our model is staggeringly inefficient. There is something wrong with it. Guess, what?"
   ]
  },
  {
   "cell_type": "code",
   "execution_count": 38,
   "metadata": {},
   "outputs": [
    {
     "name": "stdout",
     "output_type": "stream",
     "text": [
      "\n",
      "Test accuracy: 92.44 %\n"
     ]
    },
    {
     "ename": "AssertionError",
     "evalue": "Your network can do better!",
     "output_type": "error",
     "traceback": [
      "\u001b[0;31m---------------------------------------------------------------------------\u001b[0m",
      "\u001b[0;31mAssertionError\u001b[0m                            Traceback (most recent call last)",
      "\u001b[0;32m<ipython-input-38-95123c2d6992>\u001b[0m in \u001b[0;36m<module>\u001b[0;34m()\u001b[0m\n\u001b[1;32m      8\u001b[0m \u001b[0;34m\u001b[0m\u001b[0m\n\u001b[1;32m      9\u001b[0m \u001b[0;32massert\u001b[0m \u001b[0mtest_accuracy\u001b[0m\u001b[0;34m>=\u001b[0m\u001b[0;36m0.92\u001b[0m\u001b[0;34m,\u001b[0m\u001b[0;34m\"Logistic regression can do better!\"\u001b[0m\u001b[0;34m\u001b[0m\u001b[0m\n\u001b[0;32m---> 10\u001b[0;31m \u001b[0;32massert\u001b[0m \u001b[0mtest_accuracy\u001b[0m\u001b[0;34m>=\u001b[0m\u001b[0;36m0.975\u001b[0m\u001b[0;34m,\u001b[0m\u001b[0;34m\"Your network can do better!\"\u001b[0m\u001b[0;34m\u001b[0m\u001b[0m\n\u001b[0m\u001b[1;32m     11\u001b[0m \u001b[0mprint\u001b[0m\u001b[0;34m(\u001b[0m\u001b[0;34m\"Great job!\"\u001b[0m\u001b[0;34m)\u001b[0m\u001b[0;34m\u001b[0m\u001b[0m\n",
      "\u001b[0;31mAssertionError\u001b[0m: Your network can do better!"
     ]
    }
   ],
   "source": [
    "# Test score...\n",
    "test_predictions = model.predict_proba(X_test).argmax(axis=-1)\n",
    "test_answers = y_test.argmax(axis=-1)\n",
    "\n",
    "test_accuracy = np.mean(test_predictions==test_answers)\n",
    "\n",
    "print(\"\\nTest accuracy: {} %\".format(test_accuracy*100))\n",
    "\n",
    "assert test_accuracy>=0.92,\"Logistic regression can do better!\"\n",
    "assert test_accuracy>=0.975,\"Your network can do better!\"\n",
    "print(\"Great job!\")"
   ]
  },
  {
   "cell_type": "code",
   "execution_count": 129,
   "metadata": {},
   "outputs": [],
   "source": [
    "# my model\n",
    "\n",
    "model = Sequential(name=\"mlp\")\n",
    "\n",
    "model.add(ll.InputLayer([28, 28]))\n",
    "\n",
    "model.add(ll.Flatten())\n",
    "\n",
    "# network body\n",
    "model.add(ll.Dense(100))\n",
    "model.add(ll.Activation('relu'))\n",
    "\n",
    "model.add(ll.Dense(100))\n",
    "model.add(ll.Activation('relu'))\n",
    "\n",
    "# output layer: 10 neurons for each class with softmax\n",
    "model.add(ll.Dense(10, activation='softmax'))\n",
    "\n",
    "# categorical_crossentropy is your good old crossentropy\n",
    "# but applied for one-hot-encoded vectors\n",
    "\n",
    "# opt = keras.optimizers.SGD(0.2, 0.9, decay=0.0)\n",
    "\n",
    "lr, be1, be2, decay = 0.003, 0.9, 0.999, 0.000\n",
    "opt = keras.optimizers.Adam(lr=lr, beta_1=be1, beta_2=be2, decay=decay)\n",
    "model.compile(opt, \"categorical_crossentropy\", metrics=[\"accuracy\"])\n",
    "\n",
    "# tensorboard_path = '/tmp/tboard/' + datetime.now().strftime(\"%Y%m%d-%H%M%S\") + \"/\"\n",
    "param_str = '-'.join(map(str, [lr, be1, be2, decay]))\n",
    "tensorboard_path = '/tmp/tboard/' + 'adam-' + param_str + \"/\""
   ]
  },
  {
   "cell_type": "code",
   "execution_count": 130,
   "metadata": {},
   "outputs": [],
   "source": [
    "# ! rm -r /tmp/tboard/adam-0.003-0.9-0.999-0.005/"
   ]
  },
  {
   "cell_type": "code",
   "execution_count": 131,
   "metadata": {},
   "outputs": [
    {
     "name": "stdout",
     "output_type": "stream",
     "text": [
      "Train on 50000 samples, validate on 10000 samples\n",
      "Epoch 1/15\n",
      "50000/50000 [==============================] - 4s 88us/step - loss: 0.2770 - acc: 0.9179 - val_loss: 0.1418 - val_acc: 0.9579\n",
      "Epoch 2/15\n",
      "50000/50000 [==============================] - 4s 75us/step - loss: 0.1166 - acc: 0.9645 - val_loss: 0.1094 - val_acc: 0.9648\n",
      "Epoch 3/15\n",
      "50000/50000 [==============================] - 4s 76us/step - loss: 0.0814 - acc: 0.9740 - val_loss: 0.0982 - val_acc: 0.9710\n",
      "Epoch 4/15\n",
      "50000/50000 [==============================] - 4s 78us/step - loss: 0.0624 - acc: 0.9805 - val_loss: 0.1187 - val_acc: 0.9674\n",
      "Epoch 5/15\n",
      "50000/50000 [==============================] - 4s 75us/step - loss: 0.0503 - acc: 0.9839 - val_loss: 0.1011 - val_acc: 0.9709\n",
      "Epoch 6/15\n",
      "50000/50000 [==============================] - 4s 74us/step - loss: 0.0417 - acc: 0.9865 - val_loss: 0.1269 - val_acc: 0.9679\n",
      "Epoch 7/15\n",
      "50000/50000 [==============================] - 4s 78us/step - loss: 0.0380 - acc: 0.9874 - val_loss: 0.1017 - val_acc: 0.9751\n",
      "Epoch 8/15\n",
      "50000/50000 [==============================] - 4s 77us/step - loss: 0.0321 - acc: 0.9896 - val_loss: 0.1195 - val_acc: 0.9724\n",
      "Epoch 9/15\n",
      "50000/50000 [==============================] - 4s 77us/step - loss: 0.0273 - acc: 0.9907 - val_loss: 0.0996 - val_acc: 0.9771\n",
      "Epoch 10/15\n",
      "50000/50000 [==============================] - 3s 68us/step - loss: 0.0240 - acc: 0.9920 - val_loss: 0.1086 - val_acc: 0.9747\n",
      "Epoch 11/15\n",
      "50000/50000 [==============================] - 4s 75us/step - loss: 0.0245 - acc: 0.9916 - val_loss: 0.1229 - val_acc: 0.9732\n",
      "Epoch 12/15\n",
      "50000/50000 [==============================] - 4s 73us/step - loss: 0.0234 - acc: 0.9921 - val_loss: 0.1100 - val_acc: 0.9758\n",
      "Epoch 13/15\n",
      "50000/50000 [==============================] - 4s 71us/step - loss: 0.0216 - acc: 0.9928 - val_loss: 0.1276 - val_acc: 0.9746\n",
      "Epoch 14/15\n",
      "50000/50000 [==============================] - 4s 72us/step - loss: 0.0233 - acc: 0.9926 - val_loss: 0.1403 - val_acc: 0.9716\n",
      "Epoch 15/15\n",
      "50000/50000 [==============================] - 4s 73us/step - loss: 0.0176 - acc: 0.9941 - val_loss: 0.1238 - val_acc: 0.9742\n"
     ]
    }
   ],
   "source": [
    "# fit(X,y) ships with a neat automatic logging.\n",
    "#          Highly customizable under the hood.\n",
    "model.fit(X_train, y_train, validation_data=(X_val, y_val), batch_size=128, epochs=15,\n",
    "          callbacks=[TensorBoard(tensorboard_path)]);"
   ]
  },
  {
   "cell_type": "code",
   "execution_count": 66,
   "metadata": {},
   "outputs": [
    {
     "name": "stdout",
     "output_type": "stream",
     "text": [
      "\n",
      "Test accuracy: 97.8 %\n",
      "Great job!\n"
     ]
    }
   ],
   "source": [
    "# Test score...\n",
    "test_predictions = model.predict_proba(X_test).argmax(axis=-1)\n",
    "test_answers = y_test.argmax(axis=-1)\n",
    "\n",
    "test_accuracy = np.mean(test_predictions==test_answers)\n",
    "\n",
    "print(\"\\nTest accuracy: {} %\".format(test_accuracy*100))\n",
    "\n",
    "assert test_accuracy>=0.92,\"Logistic regression can do better!\"\n",
    "assert test_accuracy>=0.975,\"Your network can do better!\"\n",
    "print(\"Great job!\")"
   ]
  },
  {
   "cell_type": "code",
   "execution_count": 25,
   "metadata": {},
   "outputs": [],
   "source": [
    "answer_submitter = grading.Grader(\"0ybD9ZxxEeea8A6GzH-6CA\")\n",
    "answer_submitter.set_answer(\"N56DR\", test_accuracy)"
   ]
  },
  {
   "cell_type": "code",
   "execution_count": 26,
   "metadata": {},
   "outputs": [
    {
     "name": "stdout",
     "output_type": "stream",
     "text": [
      "Submitted to Coursera platform. See results on assignment page!\n"
     ]
    }
   ],
   "source": [
    "answer_submitter.submit('trushkov.iurii@gmail.com', 'yKFVO1ewvmIb8KuQ')"
   ]
  },
  {
   "cell_type": "markdown",
   "metadata": {},
   "source": [
    "## Keras + tensorboard\n",
    "\n",
    "Remember the interactive graphs from Tensorboard one notebook ago? \n",
    "\n",
    "Thing is, Keras can use tensorboard to show you a lot of useful information about the learning progress. Just take a look!"
   ]
  },
  {
   "cell_type": "code",
   "execution_count": 88,
   "metadata": {},
   "outputs": [],
   "source": [
    "! rm -r /tmp/tboard/**"
   ]
  },
  {
   "cell_type": "code",
   "execution_count": 17,
   "metadata": {},
   "outputs": [
    {
     "name": "stdout",
     "output_type": "stream",
     "text": [
      "Train on 50000 samples, validate on 10000 samples\n",
      "Epoch 1/10\n",
      "50000/50000 [==============================] - 7s 131us/step - loss: 0.2732 - acc: 0.9227 - val_loss: 0.2648 - val_acc: 0.9293\n",
      "Epoch 2/10\n",
      "50000/50000 [==============================] - 7s 135us/step - loss: 0.2695 - acc: 0.9244 - val_loss: 0.2665 - val_acc: 0.9261\n",
      "Epoch 3/10\n",
      "50000/50000 [==============================] - 7s 139us/step - loss: 0.2673 - acc: 0.9246 - val_loss: 0.2660 - val_acc: 0.9266\n",
      "Epoch 4/10\n",
      "50000/50000 [==============================] - 6s 126us/step - loss: 0.2651 - acc: 0.9255 - val_loss: 0.2750 - val_acc: 0.9254\n",
      "Epoch 5/10\n",
      "50000/50000 [==============================] - 6s 125us/step - loss: 0.2637 - acc: 0.9252 - val_loss: 0.2649 - val_acc: 0.9283\n",
      "Epoch 6/10\n",
      "50000/50000 [==============================] - 7s 130us/step - loss: 0.2620 - acc: 0.9265 - val_loss: 0.2751 - val_acc: 0.9236\n",
      "Epoch 7/10\n",
      "50000/50000 [==============================] - 7s 131us/step - loss: 0.2602 - acc: 0.9265 - val_loss: 0.2748 - val_acc: 0.9285\n",
      "Epoch 8/10\n",
      "50000/50000 [==============================] - 7s 133us/step - loss: 0.2585 - acc: 0.9267 - val_loss: 0.2677 - val_acc: 0.9300\n",
      "Epoch 9/10\n",
      "50000/50000 [==============================] - 7s 132us/step - loss: 0.2580 - acc: 0.9279 - val_loss: 0.2696 - val_acc: 0.9287\n",
      "Epoch 10/10\n",
      "50000/50000 [==============================] - 7s 131us/step - loss: 0.2569 - acc: 0.9271 - val_loss: 0.2628 - val_acc: 0.9309\n"
     ]
    },
    {
     "data": {
      "text/plain": [
       "<keras.callbacks.History at 0x7fdfdc26a3c8>"
      ]
     },
     "execution_count": 17,
     "metadata": {},
     "output_type": "execute_result"
    }
   ],
   "source": [
    "from keras.callbacks import TensorBoard\n",
    "model.fit(X_train, y_train, validation_data=(X_val, y_val), \n",
    "          epochs=10,\n",
    "          callbacks=[TensorBoard(\"/tmp/tboard\")])"
   ]
  },
  {
   "cell_type": "markdown",
   "metadata": {},
   "source": [
    "# Tips & tricks\n",
    "\n",
    "Here are some tips on what you could do. Don't worry, to reach the passing threshold you don't need to try all the ideas listed here, feel free to stop once you reach the 0.975 accuracy mark.\n",
    "\n",
    " * __Network size__\n",
    "   * More neurons, \n",
    "   * More layers, ([docs](https://keras.io/))\n",
    "\n",
    "   * Nonlinearities in the hidden layers\n",
    "     * tanh, relu, leaky relu, etc\n",
    "   * Larger networks may take more epochs to train, so don't discard your net just because it could didn't beat the baseline in 5 epochs.\n",
    "\n",
    "\n",
    " * __Early Stopping__\n",
    "   * Training for 100 epochs regardless of anything is probably a bad idea.\n",
    "   * Some networks converge over 5 epochs, others - over 500.\n",
    "   * Way to go: stop when validation score is 10 iterations past maximum\n",
    "     \n",
    "\n",
    " * __Faster optimization__\n",
    "   * rmsprop, nesterov_momentum, adam, adagrad and so on.\n",
    "     * Converge faster and sometimes reach better optima\n",
    "     * It might make sense to tweak learning rate/momentum, other learning parameters, batch size and number of epochs\n",
    "\n",
    "\n",
    " * __Regularize__ to prevent overfitting\n",
    "   * Add some L2 weight norm to the loss function, theano will do the rest\n",
    "     * Can be done manually or via - https://keras.io/regularizers/\n",
    "   \n",
    "   \n",
    " * __Data augmemntation__ - getting 5x as large dataset for free is a great deal\n",
    "   * https://keras.io/preprocessing/image/\n",
    "   * Zoom-in+slice = move\n",
    "   * Rotate+zoom(to remove black stripes)\n",
    "   * any other perturbations\n",
    "   * Simple way to do that (if you have PIL/Image): \n",
    "     * ```from scipy.misc import imrotate,imresize```\n",
    "     * and a few slicing\n",
    "   * Stay realistic. There's usually no point in flipping dogs upside down as that is not the way you usually see them."
   ]
  }
 ],
 "metadata": {
  "kernelspec": {
   "display_name": "Python [default]",
   "language": "python",
   "name": "python3"
  },
  "language_info": {
   "codemirror_mode": {
    "name": "ipython",
    "version": 3
   },
   "file_extension": ".py",
   "mimetype": "text/x-python",
   "name": "python",
   "nbconvert_exporter": "python",
   "pygments_lexer": "ipython3",
   "version": "3.6.4"
  },
  "toc": {
   "colors": {
    "hover_highlight": "#DAA520",
    "navigate_num": "#000000",
    "navigate_text": "#333333",
    "running_highlight": "#FF0000",
    "selected_highlight": "#FFD700",
    "sidebar_border": "#EEEEEE",
    "wrapper_background": "#FFFFFF"
   },
   "moveMenuLeft": true,
   "nav_menu": {
    "height": "120px",
    "width": "252px"
   },
   "navigate_menu": true,
   "number_sections": true,
   "sideBar": true,
   "threshold": 4,
   "toc_cell": false,
   "toc_section_display": "block",
   "toc_window_display": false,
   "widenNotebook": false
  }
 },
 "nbformat": 4,
 "nbformat_minor": 1
}
