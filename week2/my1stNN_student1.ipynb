{
 "cells": [
  {
   "cell_type": "markdown",
   "metadata": {},
   "source": [
    "# My solution to the mnist integer classification"
   ]
  },
  {
   "cell_type": "code",
   "execution_count": 1,
   "metadata": {},
   "outputs": [
    {
     "name": "stderr",
     "output_type": "stream",
     "text": [
      "Using TensorFlow backend.\n"
     ]
    },
    {
     "name": "stdout",
     "output_type": "stream",
     "text": [
      "(50000, 28, 28) (50000,)\n"
     ]
    },
    {
     "data": {
      "image/png": "[encoded data removed]",
      "text/plain": [
       "<Figure size 432x288 with 1 Axes>"
      ]
     },
     "metadata": {},
     "output_type": "display_data"
    }
   ],
   "source": [
    "from preprocessed_mnist import load_dataset\n",
    "X_train, y_train, X_val, y_val, X_test, y_test = load_dataset()\n",
    "print(X_train.shape, y_train.shape)\n",
    "import matplotlib.pyplot as plt\n",
    "%matplotlib inline\n",
    "plt.imshow(X_train[0], cmap=\"Greys\");"
   ]
  },
  {
   "cell_type": "code",
   "execution_count": 2,
   "metadata": {},
   "outputs": [
    {
     "data": {
      "text/plain": [
       "((50000, 28, 28), (50000,), (10000, 28, 28), (10000, 28, 28), (10000,))"
      ]
     },
     "execution_count": 2,
     "metadata": {},
     "output_type": "execute_result"
    }
   ],
   "source": [
    "X_train.shape,y_train.shape,X_val.shape,X_test.shape,y_test.shape\n"
   ]
  },
  {
   "cell_type": "code",
   "execution_count": 3,
   "metadata": {},
   "outputs": [
    {
     "data": {
      "text/plain": [
       "array([5, 0, 4, 1, 9, 2, 1, 3, 1, 4], dtype=uint8)"
      ]
     },
     "execution_count": 3,
     "metadata": {},
     "output_type": "execute_result"
    }
   ],
   "source": [
    "y_train[:10]\n"
   ]
  },
  {
   "cell_type": "code",
   "execution_count": 4,
   "metadata": {},
   "outputs": [],
   "source": [
    "! killall tensorboard\n",
    "import os\n",
    "os.system(\"tensorboard --logdir=/tmp/tboard --port=7007 &\");\n",
    "import tensorflow as tf\n",
    "s = tf.InteractiveSession()\n",
    "import numpy as np\n",
    "# access TensorBoard on http://127.0.0.1:7007/\n"
   ]
  },
  {
   "cell_type": "markdown",
   "metadata": {},
   "source": [
    "### Lets do a 2 layer Neuralnetwork to solve the problem of identifying digits from 0 to 9"
   ]
  },
  {
   "cell_type": "markdown",
   "metadata": {},
   "source": [
    "Defining some initializers"
   ]
  },
  {
   "cell_type": "code",
   "execution_count": 5,
   "metadata": {},
   "outputs": [],
   "source": [
    "def weight_var(shape):\n",
    "    init = tf.truncated_normal(shape,stddev=0.1)\n",
    "    return tf.Variable(init)"
   ]
  },
  {
   "cell_type": "code",
   "execution_count": 6,
   "metadata": {},
   "outputs": [],
   "source": [
    "def bias_var(shape):\n",
    "    bias = tf.constant( 0.01,shape=shape)\n",
    "    return tf.Variable(bias)"
   ]
  },
  {
   "cell_type": "markdown",
   "metadata": {},
   "source": [
    "Reshaping the data for simpler operations"
   ]
  },
  {
   "cell_type": "code",
   "execution_count": 7,
   "metadata": {},
   "outputs": [],
   "source": [
    "X_t = np.reshape(X_train,(50000, 784))\n"
   ]
  },
  {
   "cell_type": "code",
   "execution_count": 8,
   "metadata": {},
   "outputs": [],
   "source": [
    "X_v = np.reshape(X_val,(10000, 784))"
   ]
  },
  {
   "cell_type": "code",
   "execution_count": 9,
   "metadata": {},
   "outputs": [],
   "source": [
    "X_tes = np.reshape(X_test,(10000, 784))"
   ]
  },
  {
   "cell_type": "markdown",
   "metadata": {},
   "source": [
    "Defining som placeholders for holding data (in mini batches)"
   ]
  },
  {
   "cell_type": "code",
   "execution_count": 10,
   "metadata": {},
   "outputs": [],
   "source": [
    "input_X2 = tf.placeholder(tf.float32,shape=[None,784],name=\"inputx\")\n",
    "input_y2 = tf.placeholder(tf.float32,shape=[None,10],name=\"inputy\")"
   ]
  },
  {
   "cell_type": "markdown",
   "metadata": {},
   "source": [
    "Defining the weights and activation function"
   ]
  },
  {
   "cell_type": "code",
   "execution_count": 11,
   "metadata": {},
   "outputs": [],
   "source": [
    "layer1w = weight_var([784,30])\n",
    "layer1b = bias_var([30])"
   ]
  },
  {
   "cell_type": "code",
   "execution_count": 12,
   "metadata": {},
   "outputs": [],
   "source": [
    "activ1 = tf.nn.sigmoid(tf.matmul(input_X2,layer1w)+layer1b)"
   ]
  },
  {
   "cell_type": "code",
   "execution_count": 13,
   "metadata": {},
   "outputs": [],
   "source": [
    "layer2w = weight_var([30,10])\n",
    "layer2b = bias_var([10])"
   ]
  },
  {
   "cell_type": "markdown",
   "metadata": {},
   "source": [
    "And the predicted values are..."
   ]
  },
  {
   "cell_type": "code",
   "execution_count": 14,
   "metadata": {},
   "outputs": [],
   "source": [
    "predicted_y2 = tf.nn.sigmoid(tf.matmul(activ1,layer2w)+layer2b)"
   ]
  },
  {
   "cell_type": "markdown",
   "metadata": {},
   "source": [
    "\n",
    "And then we need a cost function to train the parameters"
   ]
  },
  {
   "cell_type": "code",
   "execution_count": 15,
   "metadata": {},
   "outputs": [
    {
     "name": "stdout",
     "output_type": "stream",
     "text": [
      "WARNING:tensorflow:From <ipython-input-15-0902002eab2f>:1: softmax_cross_entropy_with_logits (from tensorflow.python.ops.nn_ops) is deprecated and will be removed in a future version.\n",
      "Instructions for updating:\n",
      "\n",
      "Future major versions of TensorFlow will allow gradients to flow\n",
      "into the labels input on backprop by default.\n",
      "\n",
      "See @{tf.nn.softmax_cross_entropy_with_logits_v2}.\n",
      "\n"
     ]
    }
   ],
   "source": [
    "cost = tf.reduce_mean(tf.nn.softmax_cross_entropy_with_logits(labels=input_y2, logits=predicted_y2))"
   ]
  },
  {
   "cell_type": "markdown",
   "metadata": {},
   "source": [
    "Defining an optimizer for training the weights"
   ]
  },
  {
   "cell_type": "code",
   "execution_count": 16,
   "metadata": {},
   "outputs": [],
   "source": [
    "optim = tf.train.AdamOptimizer(0.001).minimize(cost,var_list=[layer1w,layer2w])"
   ]
  },
  {
   "cell_type": "markdown",
   "metadata": {},
   "source": [
    "Running the optimizer and some unfreindly outputdata"
   ]
  },
  {
   "cell_type": "code",
   "execution_count": 17,
   "metadata": {},
   "outputs": [
    {
     "name": "stdout",
     "output_type": "stream",
     "text": [
      "loss at iter 0:2.3027\n",
      "train auc: 0.5363627329246097\n",
      "test auc: 0.5418931915690541\n",
      "loss at iter 300:1.7984\n",
      "train auc: 0.9745848173172901\n",
      "test auc: 0.9725588351276219\n",
      "loss at iter 600:1.6719\n",
      "train auc: 0.9872520075553884\n",
      "test auc: 0.9837077045001266\n",
      "loss at iter 900:1.6211\n",
      "train auc: 0.9892797792208666\n",
      "test auc: 0.986905984435752\n",
      "loss at iter 1200:1.6017\n",
      "train auc: 0.9878181381649348\n",
      "test auc: 0.9891836922350403\n",
      "loss at iter 1500:1.5681\n",
      "train auc: 0.9934797218700873\n",
      "test auc: 0.990118219779254\n",
      "loss at iter 1800:1.5614\n",
      "train auc: 0.9912111716959553\n",
      "test auc: 0.9909160306581359\n",
      "loss at iter 1999:1.5564\n",
      "train auc: 0.9918243508011472\n",
      "test auc: 0.9906758081208702\n"
     ]
    }
   ],
   "source": [
    "from sklearn.metrics import roc_auc_score\n",
    "s.run(tf.global_variables_initializer())\n",
    "batch_size = 1000 # number of examples we use per iteration\n",
    "itr = 2000 # number of iterations\n",
    "traincost = []\n",
    "testcost = []\n",
    "iterations = []\n",
    "y_training = tf.one_hot(y_train,10).eval()\n",
    "y_testing = tf.one_hot(y_test,10).eval()\n",
    "for i in range(itr):\n",
    "    ind = np.random.choice(X_t.shape[0], batch_size)\n",
    "    ind2 = np.random.choice(X_tes.shape[0],X_tes.shape[0])\n",
    "                            #batch_size)\n",
    "\n",
    "    s.run(optim, {input_X2: X_t[ind,:], input_y2: y_training[ind]})\n",
    "    if i%20 == 0:\n",
    "        traincost.append(s.run(cost, {input_X2: X_t[ind,:], input_y2: y_training[ind]}))\n",
    "        testcost.append(s.run(cost,{input_X2:X_tes[ind2,:], input_y2: y_testing[ind2]}))\n",
    "        iterations.append(i)\n",
    "    if i%300 == 0 or i == itr-1:\n",
    "        print(\"loss at iter %i:%.4f\" % (i, traincost[len(traincost)-1]))\n",
    "        print(\"train auc:\", roc_auc_score(y_training[ind], s.run(predicted_y2, {input_X2:X_t[ind,:]})))\n",
    "        print(\"test auc:\", roc_auc_score(y_testing[ind2], s.run(predicted_y2, {input_X2:X_tes[ind2,:]})))"
   ]
  },
  {
   "cell_type": "markdown",
   "metadata": {},
   "source": [
    "Lets visualize this beauty!"
   ]
  },
  {
   "cell_type": "code",
   "execution_count": 143,
   "metadata": {},
   "outputs": [
    {
     "data": {
      "image/png": "[encoded data removed]",
      "text/plain": [
       "<matplotlib.figure.Figure at 0x7ffaa0ec87b8>"
      ]
     },
     "metadata": {},
     "output_type": "display_data"
    }
   ],
   "source": [
    "plt.plot(iterations, traincost, label=\"Training cost\")\n",
    "plt.plot(iterations, testcost, label=r\"Test cost\")\n",
    "plt.legend();\n",
    "plt.show()"
   ]
  },
  {
   "cell_type": "markdown",
   "metadata": {},
   "source": [
    "Some last minute dataprocessing"
   ]
  },
  {
   "cell_type": "code",
   "execution_count": 19,
   "metadata": {},
   "outputs": [],
   "source": [
    "y_validation = tf.one_hot(y_val,10).eval()"
   ]
  },
  {
   "cell_type": "code",
   "execution_count": 27,
   "metadata": {},
   "outputs": [
    {
     "data": {
      "text/plain": [
       "array([1.772531 , 1.3336688, 1.139077 , ..., 1.2249432, 1.0789757,\n",
       "       1.3822646], dtype=float32)"
      ]
     },
     "execution_count": 27,
     "metadata": {},
     "output_type": "execute_result"
    }
   ],
   "source": [
    "s.run(predicted_y2, {input_X2:X_v}).sum(1)"
   ]
  },
  {
   "cell_type": "code",
   "execution_count": 145,
   "metadata": {},
   "outputs": [
    {
     "name": "stdout",
     "output_type": "stream",
     "text": [
      "And the final model accuracy is ...: 0.9911\n"
     ]
    }
   ],
   "source": [
    "print(\"And the final model accuracy is ...: %.4f\" % \n",
    "      (roc_auc_score(y_validation, s.run(predicted_y2, {input_X2:X_v}))))"
   ]
  }
 ],
 "metadata": {
  "kernelspec": {
   "display_name": "Python 3",
   "language": "python",
   "name": "python3"
  },
  "language_info": {
   "codemirror_mode": {
    "name": "ipython",
    "version": 3
   },
   "file_extension": ".py",
   "mimetype": "text/x-python",
   "name": "python",
   "nbconvert_exporter": "python",
   "pygments_lexer": "ipython3",
   "version": "3.6.5"
  }
 },
 "nbformat": 4,
 "nbformat_minor": 2
}
