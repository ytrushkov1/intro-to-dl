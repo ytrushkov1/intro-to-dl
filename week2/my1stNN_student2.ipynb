{
 "cells": [
  {
   "cell_type": "code",
   "execution_count": 1,
   "metadata": {},
   "outputs": [
    {
     "name": "stderr",
     "output_type": "stream",
     "text": [
      "Using TensorFlow backend.\n"
     ]
    },
    {
     "name": "stdout",
     "output_type": "stream",
     "text": [
      "(50000, 28, 28) (50000,)\n"
     ]
    },
    {
     "data": {
      "image/png": "[encoded data removed]",
      "text/plain": [
       "<Figure size 432x288 with 1 Axes>"
      ]
     },
     "metadata": {},
     "output_type": "display_data"
    }
   ],
   "source": [
    "from preprocessed_mnist import load_dataset\n",
    "X_train, y_train, X_val, y_val, X_test, y_test = load_dataset()\n",
    "print(X_train.shape, y_train.shape)\n",
    "import matplotlib.pyplot as plt\n",
    "%matplotlib inline\n",
    "plt.imshow(X_train[0], cmap=\"Greys\");"
   ]
  },
  {
   "cell_type": "code",
   "execution_count": 2,
   "metadata": {},
   "outputs": [],
   "source": [
    "import tensorflow as tf\n",
    "import numpy as np\n",
    "#import timeit"
   ]
  },
  {
   "cell_type": "code",
   "execution_count": 3,
   "metadata": {},
   "outputs": [],
   "source": [
    "# Defining parameters \n",
    "\n",
    "X_train_reshape = X_train.reshape((50000, 784))\n",
    "X_test_reshape = X_test.reshape((10000, 784))\n",
    "\n",
    "y_train_reshape = np.zeros((y_train.size, y_train.max()+1))\n",
    "y_train_reshape[np.arange(y_train.size),y_train] = 1\n",
    "y_test_reshape = np.zeros((y_test.size, y_test.max()+1))\n",
    "y_test_reshape[np.arange(y_test.size),y_test] = 1\n",
    "\n",
    "X = tf.placeholder('float32', shape=[None,784])\n",
    "Y = tf.placeholder('float32', shape=[None, 10])\n",
    "w1 = tf.Variable(tf.truncated_normal(shape=(784, 50), mean=0.0, stddev=0.001), dtype='float32')\n",
    "w2 = tf.Variable(tf.truncated_normal(shape=(50,10), mean=0.0, stddev=0.001), dtype='float32')\n",
    "b1 = tf.Variable(tf.ones(shape=(1,50)),dtype='float32')\n",
    "b2 = tf.Variable(tf.ones(shape=(1,10)),dtype='float32')\n"
   ]
  },
  {
   "cell_type": "code",
   "execution_count": 4,
   "metadata": {},
   "outputs": [],
   "source": [
    "# Building model\n",
    "hidden_layer = tf.nn.relu(tf.add(tf.matmul(X,w1), b1))\n",
    "y_model = tf.nn.softmax(tf.add(tf.matmul(hidden_layer,w2), b2))\n",
    "loss = tf.losses.softmax_cross_entropy(Y, y_model)\n",
    "accuracy = tf.metrics.accuracy(tf.argmax(Y, 1), tf.argmax(y_model, 1))\n",
    "optimizer = tf.train.AdamOptimizer(learning_rate=0.009,beta1=0.8,beta2=0.99,epsilon=1e-08).minimize(loss, var_list=[w1,b1,w2,b2])"
   ]
  },
  {
   "cell_type": "code",
   "execution_count": 5,
   "metadata": {},
   "outputs": [],
   "source": [
    "# Training\n",
    "\n",
    "#start_time = timeit.default_timer()\n",
    "\n",
    "sess = tf.Session()\n",
    "sess.run(tf.global_variables_initializer())\n",
    "sess.run(tf.local_variables_initializer())\n",
    "mini_batch_size = 100\n",
    "n_batch = 500\n",
    "lossdata = []\n",
    "lossdata2 = []\n",
    "iters = []\n",
    "for i in range(50000):\n",
    "    i_batch = (i % n_batch)*mini_batch_size\n",
    "    sess.run(optimizer, {X: X_train_reshape[i_batch:i_batch+mini_batch_size], Y: y_train_reshape[i_batch:i_batch+mini_batch_size]})\n",
    "    loss_i = sess.run(loss, {X: X_train_reshape[i_batch:i_batch+mini_batch_size], Y: y_train_reshape[i_batch:i_batch+mini_batch_size]})\n",
    "    loss_j = sess.run(loss, {X: X_test_reshape[i_batch:i_batch+mini_batch_size], Y: y_test_reshape[i_batch:i_batch+mini_batch_size]})\n",
    "    lossdata.append(loss_i)\n",
    "    lossdata2.append(loss_j)\n",
    "    iters.append(i)\n",
    "    \n",
    "\n",
    "#elapsed = timeit.default_timer() - start_time\n",
    "#print(elapsed)"
   ]
  },
  {
   "cell_type": "code",
   "execution_count": 6,
   "metadata": {},
   "outputs": [
    {
     "name": "stdout",
     "output_type": "stream",
     "text": [
      "0.98214\n"
     ]
    },
    {
     "data": {
      "text/plain": [
       "<matplotlib.legend.Legend at 0x7fd5f80bf978>"
      ]
     },
     "execution_count": 6,
     "metadata": {},
     "output_type": "execute_result"
    },
    {
     "data": {
      "image/png": "[encoded data removed]",
      "text/plain": [
       "<Figure size 432x288 with 2 Axes>"
      ]
     },
     "metadata": {},
     "output_type": "display_data"
    }
   ],
   "source": [
    "# Evaluating result\n",
    "\n",
    "print(sess.run(accuracy, feed_dict={X: X_train_reshape, Y: y_train_reshape})[1])\n",
    "\n",
    "\n",
    "f, (ax1, ax2) = plt.subplots(1, 2, sharex=True)\n",
    "ax1.plot(iters, lossdata,'k-', label = \"training\")\n",
    "ax1.set_title('Loss vs. Iteration number')\n",
    "ax1.legend(loc=\"upper right\")\n",
    "ax2.plot(iters, lossdata2, label=\"test\")\n",
    "ax2.legend(loc=\"upper right\")\n"
   ]
  },
  {
   "cell_type": "code",
   "execution_count": null,
   "metadata": {},
   "outputs": [],
   "source": []
  }
 ],
 "metadata": {
  "kernelspec": {
   "display_name": "Python 3",
   "language": "python",
   "name": "python3"
  },
  "language_info": {
   "codemirror_mode": {
    "name": "ipython",
    "version": 3
   },
   "file_extension": ".py",
   "mimetype": "text/x-python",
   "name": "python",
   "nbconvert_exporter": "python",
   "pygments_lexer": "ipython3",
   "version": "3.6.5"
  }
 },
 "nbformat": 4,
 "nbformat_minor": 2
}
