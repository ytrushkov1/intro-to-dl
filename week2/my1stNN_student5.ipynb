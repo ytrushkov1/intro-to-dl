{
 "cells": [
  {
   "cell_type": "code",
   "execution_count": null,
   "metadata": {},
   "outputs": [],
   "source": [
    "from preprocessed_mnist import load_dataset\n",
    "from keras.utils import np_utils\n",
    "import tensorflow as tf\n",
    "import keras, keras.layers as L, keras.backend as K\n",
    "import numpy as np\n",
    "\n",
    "X_train, y_train, X_val, y_val, X_test, y_test = load_dataset()\n",
    "print(X_train.shape, y_train.shape)\n",
    "import matplotlib.pyplot as plt\n",
    "%matplotlib inline\n",
    "plt.imshow(X_train[0], cmap=\"Greys\")\n",
    "\n",
    "y_trainOneHot = np_utils.to_categorical(y_train)  \n",
    "y_valOneHot = np_utils.to_categorical(y_val)  \n",
    "y_testOneHot = np_utils.to_categorical(y_test)  \n",
    "\n",
    "K.clear_session()\n",
    "tf.reset_default_graph()\n",
    "K.get_session()\n",
    "\n",
    "NN = keras.models.Sequential()\n",
    "NN.add(L.InputLayer(img_shape))\n",
    "NN.add(L.Reshape((img_shape[0], img_shape[1], 1)))\n",
    "NN.add(L.Conv2D(filters = 32, kernel_size = 2, padding = 'same', activation='elu'))\n",
    "NN.add(L.MaxPool2D(pool_size = 2))\n",
    "NN.add(L.Conv2D(filters = 16, kernel_size = 2, padding = 'same', activation='elu'))\n",
    "NN.add(L.MaxPool2D(pool_size = 2))\n",
    "NN.add(L.Flatten())\n",
    "NN.add(L.Dense(32, activation = 'elu'))\n",
    "NN.add(L.Dense(10, activation = 'softmax'))\n",
    "\n",
    "inp = L.Input(img_shape)\n",
    "out = NN(inp)\n",
    "\n",
    "model = keras.models.Model(inputs = inp, outputs = out)\n",
    "\n",
    "model.compile(optimizer = 'sgd', loss = 'categorical_crossentropy', metrics=['accuracy'])\n",
    "\n",
    "model.fit(x = X_train, y = y_trainOneHot, batch_size = 16, epochs = 10, validation_data = (X_val, y_valOneHot))\n",
    "\n",
    "accuracy = model.evaluate(X_test, y_testOneHot)\n",
    "\n",
    "print(\"The accuracy is {}%\".format(np.round(accuracy[1] * 100, 2)))"
   ]
  }
 ],
 "metadata": {
  "kernelspec": {
   "display_name": "Python 2",
   "language": "python",
   "name": "python2"
  },
  "language_info": {
   "codemirror_mode": {
    "name": "ipython",
    "version": 2
   },
   "file_extension": ".py",
   "mimetype": "text/x-python",
   "name": "python",
   "nbconvert_exporter": "python",
   "pygments_lexer": "ipython2",
   "version": "2.7.14"
  }
 },
 "nbformat": 4,
 "nbformat_minor": 2
}
