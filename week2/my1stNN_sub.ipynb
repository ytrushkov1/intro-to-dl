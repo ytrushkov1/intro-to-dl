{
 "cells": [
  {
   "cell_type": "code",
   "execution_count": 1,
   "metadata": {
    "collapsed": true
   },
   "outputs": [],
   "source": [
    "import time\n",
    "from tqdm import tnrange"
   ]
  },
  {
   "cell_type": "code",
   "execution_count": 2,
   "metadata": {
    "collapsed": true
   },
   "outputs": [],
   "source": [
    "import matplotlib.pyplot as plt\n",
    "%matplotlib inline\n",
    "\n",
    "import numpy as np"
   ]
  },
  {
   "cell_type": "code",
   "execution_count": 3,
   "metadata": {
    "collapsed": true
   },
   "outputs": [],
   "source": [
    "import tensorflow as tf"
   ]
  },
  {
   "cell_type": "code",
   "execution_count": null,
   "metadata": {
    "collapsed": true
   },
   "outputs": [],
   "source": []
  },
  {
   "cell_type": "markdown",
   "metadata": {},
   "source": [
    "### Data preparation steps"
   ]
  },
  {
   "cell_type": "code",
   "execution_count": 4,
   "metadata": {},
   "outputs": [
    {
     "name": "stderr",
     "output_type": "stream",
     "text": [
      "Using TensorFlow backend.\n"
     ]
    },
    {
     "name": "stdout",
     "output_type": "stream",
     "text": [
      "(50000, 784) (50000,)\n"
     ]
    },
    {
     "data": {
      "image/png": "[encoded data removed]",
      "text/plain": [
       "<matplotlib.figure.Figure at 0x7f3bbbb310b8>"
      ]
     },
     "metadata": {},
     "output_type": "display_data"
    }
   ],
   "source": [
    "from preprocessed_mnist import load_dataset\n",
    "\n",
    "X_train, y_train, X_val, y_val, X_test, y_test = load_dataset(flatten=True)\n",
    "print(X_train.shape, y_train.shape)\n",
    "plt.imshow(X_train[0].reshape((28, 28)), cmap=\"Greys\");"
   ]
  },
  {
   "cell_type": "code",
   "execution_count": 5,
   "metadata": {},
   "outputs": [
    {
     "name": "stdout",
     "output_type": "stream",
     "text": [
      "(50000, 784)\n",
      "(10000, 784)\n",
      "(10000, 784)\n",
      "1.0\n",
      "(50000,)\n",
      "(10000,)\n",
      "(10000,)\n",
      "[5 0 4 1 9]\n"
     ]
    }
   ],
   "source": [
    "print(X_train.shape)\n",
    "print(X_val.shape)\n",
    "print(X_test.shape)\n",
    "print(np.max(X_train[0]))\n",
    "\n",
    "print(y_train.shape)\n",
    "print(y_val.shape)\n",
    "print(y_test.shape)\n",
    "print(y_train[:5])"
   ]
  },
  {
   "cell_type": "code",
   "execution_count": 6,
   "metadata": {},
   "outputs": [
    {
     "name": "stdout",
     "output_type": "stream",
     "text": [
      "(50000, 10)\n",
      "(10000, 10)\n",
      "(10000, 10)\n",
      "[[ 0.  0.  0.  0.  0.  1.  0.  0.  0.  0.]\n",
      " [ 1.  0.  0.  0.  0.  0.  0.  0.  0.  0.]\n",
      " [ 0.  0.  0.  0.  1.  0.  0.  0.  0.  0.]\n",
      " [ 0.  1.  0.  0.  0.  0.  0.  0.  0.  0.]\n",
      " [ 0.  0.  0.  0.  0.  0.  0.  0.  0.  1.]]\n"
     ]
    }
   ],
   "source": [
    "y_train = np.eye(10)[y_train]\n",
    "y_val = np.eye(10)[y_val]\n",
    "y_test = np.eye(10)[y_test]\n",
    "\n",
    "print(y_train.shape)\n",
    "print(y_val.shape)\n",
    "print(y_test.shape)\n",
    "print(y_train[:5])"
   ]
  },
  {
   "cell_type": "code",
   "execution_count": 7,
   "metadata": {
    "collapsed": true
   },
   "outputs": [],
   "source": [
    "def random_mini_batches(X, Y, mini_batch_size = 64, seed = 0):\n",
    "    \"\"\"\n",
    "    Creates a list of random minibatches from (X, Y)\n",
    "    \n",
    "    Arguments:\n",
    "    X -- input data, of shape (input size, number of examples)\n",
    "    Y -- true \"label\" vector (1 for blue dot / 0 for red dot), of shape (1, number of examples)\n",
    "    mini_batch_size -- size of the mini-batches, integer\n",
    "    \n",
    "    Returns:\n",
    "    mini_batches -- list of synchronous (mini_batch_X, mini_batch_Y)\n",
    "    \"\"\"\n",
    "    \n",
    "    np.random.seed(seed)\n",
    "    m = X.shape[0]\n",
    "    mini_batches = []\n",
    "        \n",
    "    # Step 1: Shuffle (X, Y)\n",
    "    permutation = list(np.random.permutation(m))\n",
    "    shuffled_X = X[permutation]\n",
    "    shuffled_Y = Y[permutation]\n",
    "\n",
    "    # Step 2: Partition (shuffled_X, shuffled_Y). Minus the end case.\n",
    "    num_complete_minibatches = int(np.floor(m / mini_batch_size)) \n",
    "    for k in range(0, num_complete_minibatches):\n",
    "        mini_batch_X = shuffled_X[k * mini_batch_size:(k+1) * mini_batch_size]\n",
    "        mini_batch_Y = shuffled_Y[k * mini_batch_size:(k+1) * mini_batch_size]\n",
    "    \n",
    "        mini_batch = (mini_batch_X, mini_batch_Y)\n",
    "        mini_batches.append(mini_batch)\n",
    "    \n",
    "    # Handling the end case (last mini-batch < mini_batch_size)\n",
    "    if m % mini_batch_size != 0:\n",
    "        mini_batch_X = shuffled_X[num_complete_minibatches * mini_batch_size:]\n",
    "        mini_batch_Y = shuffled_Y[num_complete_minibatches * mini_batch_size:]\n",
    "        mini_batch = (mini_batch_X, mini_batch_Y)\n",
    "        mini_batches.append(mini_batch)\n",
    "    \n",
    "    return mini_batches"
   ]
  },
  {
   "cell_type": "markdown",
   "metadata": {},
   "source": [
    "### Hi, my felow learner!"
   ]
  },
  {
   "cell_type": "markdown",
   "metadata": {},
   "source": [
    "I implemented several models with increasing complexity and incresingly better accuracies:\n",
    "\n",
    "1) Regression: 92% accuaracy <br>\n",
    "2) NN with 1 hidden layer: 98.0% accuracy <br>\n",
    "3) NN with 2 hidden layers: 98.2% accuracy <br>\n",
    "\n",
    "To save your time you can check only the best model, which is in the \"Deeper Network\" section. It achieves accuracies above 98% after 20 epochs which takes around 4.5 minutes of a single CPU time. "
   ]
  },
  {
   "cell_type": "markdown",
   "metadata": {},
   "source": [
    "### Regression"
   ]
  },
  {
   "cell_type": "code",
   "execution_count": 8,
   "metadata": {
    "collapsed": true
   },
   "outputs": [],
   "source": [
    "W = tf.Variable(tf.zeros([784, 10]))\n",
    "b = tf.Variable(tf.zeros([10]))\n",
    "x = tf.placeholder(tf.float32, [None, 784])\n",
    "y_ = tf.placeholder(tf.float32, [None, 10])"
   ]
  },
  {
   "cell_type": "code",
   "execution_count": 9,
   "metadata": {
    "collapsed": true
   },
   "outputs": [],
   "source": [
    "logits = tf.matmul(x, W) + b\n",
    "\n",
    "y = tf.exp(logits) / tf.reduce_sum(tf.exp(logits), axis = 1, keep_dims=True)\n",
    "# y2 = tf.nn.softmax(logits)\n",
    "\n",
    "loss = tf.reduce_mean(tf.reduce_sum(- y_ * tf.log(y), axis = 1, keep_dims=True))\n",
    "# loss = tf.reduce_mean(tf.nn.softmax_cross_entropy_with_logits_v2(labels=y_, logits=logits))\n",
    "\n",
    "train_step = tf.train.GradientDescentOptimizer(0.1).minimize(loss)\n",
    "\n",
    "correct_prediction = tf.equal(tf.argmax(y,1), tf.argmax(y_,1))\n",
    "acc = tf.reduce_mean(tf.cast(correct_prediction, tf.float32))"
   ]
  },
  {
   "cell_type": "code",
   "execution_count": 10,
   "metadata": {
    "collapsed": true
   },
   "outputs": [],
   "source": [
    "s = tf.InteractiveSession()"
   ]
  },
  {
   "cell_type": "code",
   "execution_count": 11,
   "metadata": {},
   "outputs": [
    {
     "name": "stdout",
     "output_type": "stream",
     "text": [
      "epoch 0: train_loss = 0.3721, val_acc = 0.9084\n",
      "epoch 1: train_loss = 0.3337, val_acc = 0.9157\n",
      "epoch 2: train_loss = 0.3163, val_acc = 0.9178\n",
      "epoch 3: train_loss = 0.3058, val_acc = 0.9204\n",
      "epoch 4: train_loss = 0.2986, val_acc = 0.9224\n",
      "epoch 5: train_loss = 0.2931, val_acc = 0.9232\n",
      "epoch 6: train_loss = 0.2888, val_acc = 0.9241\n",
      "epoch 7: train_loss = 0.2852, val_acc = 0.9239\n",
      "epoch 8: train_loss = 0.2823, val_acc = 0.9242\n",
      "epoch 9: train_loss = 0.2797, val_acc = 0.9247\n"
     ]
    }
   ],
   "source": [
    "tf.global_variables_initializer().run()\n",
    "\n",
    "for epoch in range(10):\n",
    "    i = 0\n",
    "    train_mini_batches = random_mini_batches(X_train, y_train, mini_batch_size = 64, seed = i)\n",
    "    \n",
    "    for minibatch_X_train, minibatch_y_train in train_mini_batches:\n",
    "        s.run(train_step, feed_dict={x : minibatch_X_train, y_ : minibatch_y_train})\n",
    "        \n",
    "    train_loss = s.run(loss, feed_dict={x : X_train, y_ : y_train})\n",
    "    val_acc = s.run(acc, feed_dict={x : X_val, y_ : y_val})\n",
    "    print(\"epoch %i: train_loss = %.4f, val_acc = %.4f\" % (epoch, train_loss, val_acc))  "
   ]
  },
  {
   "cell_type": "code",
   "execution_count": 12,
   "metadata": {},
   "outputs": [
    {
     "name": "stdout",
     "output_type": "stream",
     "text": [
      "Final test accuracy is: 0.9224\n"
     ]
    }
   ],
   "source": [
    "test_acc = s.run(acc, feed_dict={x : X_test, y_ : y_test})\n",
    "print('Final test accuracy is: {:.4f}'.format(test_acc))    "
   ]
  },
  {
   "cell_type": "markdown",
   "metadata": {},
   "source": [
    "### Shallow Network"
   ]
  },
  {
   "cell_type": "markdown",
   "metadata": {},
   "source": [
    "With 1-hidden layer network I achieved only around 98.0% accuracy."
   ]
  },
  {
   "cell_type": "code",
   "execution_count": 13,
   "metadata": {
    "collapsed": true
   },
   "outputs": [],
   "source": [
    "n_x = 784\n",
    "n_h1 = 100\n",
    "n_y = 10\n",
    "\n",
    "tf.reset_default_graph()\n",
    "\n",
    "x = tf.placeholder(tf.float32, [None, n_x])\n",
    "y_ = tf.placeholder(tf.float32, [None, n_y])\n",
    "\n",
    "W1 = tf.Variable(tf.random_normal([n_x, n_h1], stddev=0.1))\n",
    "# W1 = tf.Variable(np.random.normal(size = [n_x, n_h1]), dtype=tf.float32)\n",
    "b1 = tf.Variable(tf.zeros([n_h1]))\n",
    "\n",
    "W2 = tf.Variable(tf.random_normal([n_h1, n_y], stddev=0.1))\n",
    "# W2 = tf.Variable(np.random.normal(size = [n_h1, n_y]), dtype=tf.float32)\n",
    "b2 = tf.Variable(tf.zeros([n_y]))"
   ]
  },
  {
   "cell_type": "code",
   "execution_count": 14,
   "metadata": {
    "collapsed": true
   },
   "outputs": [],
   "source": [
    "logits1 = tf.matmul(x, W1) + b1\n",
    "a1 = tf.nn.relu(logits1)\n",
    "\n",
    "logits2 = tf.matmul(a1, W2) + b2\n",
    "y = tf.nn.softmax(logits2)\n",
    "\n",
    "loss = tf.reduce_mean(tf.nn.softmax_cross_entropy_with_logits(labels=y_, logits=logits2))\n",
    "\n",
    "correct_prediction = tf.equal(tf.argmax(y, axis=1), tf.argmax(y_, axis=1))\n",
    "acc = tf.reduce_mean(tf.cast(correct_prediction, tf.float32))"
   ]
  },
  {
   "cell_type": "code",
   "execution_count": 15,
   "metadata": {
    "collapsed": true
   },
   "outputs": [],
   "source": [
    "s = tf.InteractiveSession()"
   ]
  },
  {
   "cell_type": "code",
   "execution_count": 16,
   "metadata": {
    "collapsed": true
   },
   "outputs": [],
   "source": [
    "global_step = tf.Variable(0, trainable=False)\n",
    "\n",
    "# lr = tf.placeholder(tf.float32, shape=[])\n",
    "learning_rate = tf.train.exponential_decay(0.003, global_step, 200, 0.98)\n",
    "\n",
    "beta1 = tf.placeholder(tf.float32, shape=[])\n",
    "beta2 = tf.placeholder(tf.float32, shape=[])\n",
    "\n",
    "\n",
    "# train_step = tf.train.GradientDescentOptimizer(learning_rate).minimize(loss, global_step = global_step)\n",
    "# train_step = tf.train.MomentumOptimizer(learning_rate, be1).minimize(loss)\n",
    "train_step = tf.train.AdamOptimizer(learning_rate).minimize(loss, global_step = global_step)\n",
    "\n",
    "tf.global_variables_initializer().run()"
   ]
  },
  {
   "cell_type": "code",
   "execution_count": 17,
   "metadata": {},
   "outputs": [
    {
     "name": "stdout",
     "output_type": "stream",
     "text": [
      "epoch   0, global_step =   782, lr = 2.7721e-03: train_loss = 1.2859e+03, train_acc = 0.9534, val_acc = 0.9587\n",
      "epoch   1, global_step =  1564, lr = 2.5616e-03: train_loss = 7.5287e+02, train_acc = 0.9686, val_acc = 0.9684\n",
      "epoch   2, global_step =  2346, lr = 2.3670e-03: train_loss = 4.9874e+02, train_acc = 0.9769, val_acc = 0.9743\n",
      "epoch   3, global_step =  3128, lr = 2.1872e-03: train_loss = 4.0411e+02, train_acc = 0.9819, val_acc = 0.9727\n",
      "epoch   4, global_step =  3910, lr = 2.0211e-03: train_loss = 3.0286e+02, train_acc = 0.9862, val_acc = 0.9753\n",
      "epoch   5, global_step =  4692, lr = 1.8676e-03: train_loss = 2.1337e+02, train_acc = 0.9897, val_acc = 0.9759\n",
      "epoch   6, global_step =  5474, lr = 1.7258e-03: train_loss = 1.6876e+02, train_acc = 0.9928, val_acc = 0.9750\n",
      "epoch   7, global_step =  6256, lr = 1.5947e-03: train_loss = 1.2715e+02, train_acc = 0.9945, val_acc = 0.9765\n",
      "epoch   8, global_step =  7038, lr = 1.4736e-03: train_loss = 1.9326e+02, train_acc = 0.9964, val_acc = 0.9741\n",
      "epoch   9, global_step =  7820, lr = 1.3616e-03: train_loss = 7.3986e+01, train_acc = 0.9980, val_acc = 0.9778\n",
      "epoch  10, global_step =  8602, lr = 1.2582e-03: train_loss = 7.2822e+01, train_acc = 0.9981, val_acc = 0.9770\n",
      "epoch  11, global_step =  9384, lr = 1.1627e-03: train_loss = 3.9356e+01, train_acc = 0.9985, val_acc = 0.9786\n",
      "epoch  12, global_step = 10166, lr = 1.0743e-03: train_loss = 2.8614e+01, train_acc = 0.9994, val_acc = 0.9791\n",
      "epoch  13, global_step = 10948, lr = 9.9274e-04: train_loss = 2.5098e+01, train_acc = 0.9996, val_acc = 0.9786\n",
      "epoch  14, global_step = 11730, lr = 9.1734e-04: train_loss = 1.7000e+01, train_acc = 0.9998, val_acc = 0.9798\n",
      "epoch  15, global_step = 12512, lr = 8.4767e-04: train_loss = 1.5408e+01, train_acc = 0.9995, val_acc = 0.9795\n",
      "epoch  16, global_step = 13294, lr = 7.8328e-04: train_loss = 1.4792e+01, train_acc = 0.9997, val_acc = 0.9781\n",
      "epoch  17, global_step = 14076, lr = 7.2379e-04: train_loss = 6.6712e+00, train_acc = 0.9999, val_acc = 0.9797\n",
      "epoch  18, global_step = 14858, lr = 6.6882e-04: train_loss = 6.0058e+00, train_acc = 1.0000, val_acc = 0.9799\n",
      "epoch  19, global_step = 15640, lr = 6.1802e-04: train_loss = 4.7939e+00, train_acc = 1.0000, val_acc = 0.9794\n",
      "epoch  20, global_step = 16422, lr = 5.7108e-04: train_loss = 5.0343e+00, train_acc = 1.0000, val_acc = 0.9798\n",
      "epoch  21, global_step = 17204, lr = 5.2770e-04: train_loss = 3.7450e+00, train_acc = 1.0000, val_acc = 0.9796\n",
      "epoch  22, global_step = 17986, lr = 4.8762e-04: train_loss = 2.5953e+00, train_acc = 1.0000, val_acc = 0.9793\n",
      "epoch  23, global_step = 18768, lr = 4.5059e-04: train_loss = 2.2620e+00, train_acc = 1.0000, val_acc = 0.9804\n",
      "epoch  24, global_step = 19550, lr = 4.1636e-04: train_loss = 2.2935e+00, train_acc = 1.0000, val_acc = 0.9799\n",
      "epoch  25, global_step = 20332, lr = 3.8474e-04: train_loss = 1.4834e+00, train_acc = 1.0000, val_acc = 0.9792\n",
      "epoch  26, global_step = 21114, lr = 3.5552e-04: train_loss = 1.3578e+00, train_acc = 1.0000, val_acc = 0.9797\n",
      "epoch  27, global_step = 21896, lr = 3.2851e-04: train_loss = 1.0653e+00, train_acc = 1.0000, val_acc = 0.9793\n",
      "epoch  28, global_step = 22678, lr = 3.0356e-04: train_loss = 1.0034e+00, train_acc = 1.0000, val_acc = 0.9798\n",
      "epoch  29, global_step = 23460, lr = 2.8051e-04: train_loss = 9.7017e-01, train_acc = 1.0000, val_acc = 0.9799\n",
      "CPU times: user 2min 48s, sys: 47.1 s, total: 3min 36s\n",
      "Wall time: 2min 21s\n"
     ]
    }
   ],
   "source": [
    "%%time\n",
    "\n",
    "lr = 0.5\n",
    "be1 = 0.9\n",
    "be2 = 0.999\n",
    "\n",
    "train_losses = []\n",
    "train_accs = []\n",
    "val_accs = []\n",
    "\n",
    "beta_train_acc = 0.99\n",
    "train_acc = 0\n",
    "\n",
    "for epoch in range(30):\n",
    "    i = 0\n",
    "    train_mini_batches = random_mini_batches(X_train, y_train, mini_batch_size = 64, seed = int(time.time()))\n",
    "    \n",
    "    for minibatch_X_train, minibatch_y_train in train_mini_batches:\n",
    "        _, train_acc_batch = s.run([train_step, acc], feed_dict = {x : minibatch_X_train, \n",
    "                                                                   y_ : minibatch_y_train,\n",
    "#                                                                    learning_rate : lr,\n",
    "                                                                   beta1 : be1,\n",
    "                                                                   beta2 : be2})\n",
    "        \n",
    "        train_acc = beta_train_acc * train_acc + (1 - beta_train_acc) * train_acc_batch\n",
    "        \n",
    "    train_loss = s.run(loss, feed_dict={x : X_train, y_ : y_train})\n",
    "    val_acc = s.run(acc, feed_dict={x : X_val, y_ : y_val})\n",
    "    train_losses.append(train_loss)\n",
    "    val_accs.append(val_acc)\n",
    "    lr, gs = s.run([learning_rate, global_step])\n",
    "    \n",
    "    \n",
    "    print(\"epoch {:3d}, global_step = {:5d}, lr = {:.4e}: train_loss = {:.4e}, train_acc = {:.4f}, val_acc = {:.4f}\".format(\n",
    "        epoch, gs, lr, train_loss * 10000, train_acc, val_acc))"
   ]
  },
  {
   "cell_type": "code",
   "execution_count": 18,
   "metadata": {},
   "outputs": [
    {
     "name": "stdout",
     "output_type": "stream",
     "text": [
      "Final test accuracy is: 0.9803\n"
     ]
    }
   ],
   "source": [
    "test_acc = s.run(acc, feed_dict={x : X_test, y_ : y_test})\n",
    "print('Final test accuracy is: {:.4f}'.format(test_acc))    "
   ]
  },
  {
   "cell_type": "code",
   "execution_count": 19,
   "metadata": {},
   "outputs": [
    {
     "data": {
      "text/plain": [
       "[<matplotlib.lines.Line2D at 0x7f3bac11a2e8>]"
      ]
     },
     "execution_count": 19,
     "metadata": {},
     "output_type": "execute_result"
    },
    {
     "data": {
      "image/png": "[encoded data removed]",
      "text/plain": [
       "<matplotlib.figure.Figure at 0x7f3ba7f01da0>"
      ]
     },
     "metadata": {},
     "output_type": "display_data"
    }
   ],
   "source": [
    "plt.subplot(1, 2, 1)\n",
    "plt.plot(np.arange(len(train_losses)), train_losses)\n",
    "\n",
    "plt.subplot(1, 2, 2)\n",
    "plt.plot(np.arange(len(train_losses)), val_accs)"
   ]
  },
  {
   "cell_type": "markdown",
   "metadata": {},
   "source": [
    "### Deeper Network"
   ]
  },
  {
   "cell_type": "markdown",
   "metadata": {},
   "source": [
    "With 2-hidden layer network I achieved a nice accuracy of 98.2% after 20 epochs. On my PC 20 epochs take 4 min of CPU time."
   ]
  },
  {
   "cell_type": "code",
   "execution_count": 20,
   "metadata": {
    "collapsed": true
   },
   "outputs": [],
   "source": [
    "n_x = 784\n",
    "n_h1 = 100\n",
    "n_h2 = 100\n",
    "n_y = 10\n",
    "\n",
    "tf.reset_default_graph()\n",
    "\n",
    "x = tf.placeholder(tf.float32, [None, n_x])\n",
    "y_ = tf.placeholder(tf.float32, [None, n_y])\n",
    "\n",
    "W1 = tf.Variable(tf.random_normal([n_x, n_h1], stddev=0.1))\n",
    "# W1 = tf.Variable(np.random.normal(size = [n_x, n_h1]), dtype=tf.float32)\n",
    "b1 = tf.Variable(tf.zeros([n_h1]))\n",
    "\n",
    "W2 = tf.Variable(tf.random_normal([n_h1, n_h2], stddev=0.1))\n",
    "# W2 = tf.Variable(np.random.normal(size = [n_h1, n_h2]), dtype=tf.float32)\n",
    "b2 = tf.Variable(tf.zeros([n_h2]))\n",
    "\n",
    "\n",
    "W3 = tf.Variable(tf.random_normal([n_h2, n_y], stddev=0.1))\n",
    "# Wy = tf.Variable(np.random.normal(size = [n_h1, n_y]), dtype=tf.float32)\n",
    "b3 = tf.Variable(tf.zeros([n_y]))"
   ]
  },
  {
   "cell_type": "code",
   "execution_count": 21,
   "metadata": {},
   "outputs": [],
   "source": [
    "logits1 = tf.matmul(x, W1) + b1\n",
    "a1 = tf.nn.relu(logits1)\n",
    "\n",
    "logits2 = tf.matmul(a1, W2) + b2\n",
    "a2 = tf.nn.relu(logits2)\n",
    "\n",
    "logits3 = tf.matmul(a2, W3) + b3\n",
    "y = tf.nn.softmax(logits3)\n",
    "\n",
    "loss = tf.reduce_mean(tf.nn.softmax_cross_entropy_with_logits(labels = y_, logits = logits3))\n",
    "\n",
    "correct_prediction = tf.equal(tf.argmax(y, axis = 1), tf.argmax(y_, axis = 1))\n",
    "acc = tf.reduce_mean(tf.cast(correct_prediction, tf.float32))"
   ]
  },
  {
   "cell_type": "code",
   "execution_count": 22,
   "metadata": {
    "collapsed": true
   },
   "outputs": [],
   "source": [
    "s = tf.InteractiveSession()"
   ]
  },
  {
   "cell_type": "code",
   "execution_count": 23,
   "metadata": {
    "collapsed": true
   },
   "outputs": [],
   "source": [
    "global_step = tf.Variable(0, trainable=False)\n",
    "\n",
    "# lr = tf.placeholder(tf.float32, shape=[])\n",
    "learning_rate = tf.train.exponential_decay(0.003, global_step, 200, 0.98, staircase=False)\n",
    "\n",
    "beta1 = tf.placeholder(tf.float32, shape=[])\n",
    "beta2 = tf.placeholder(tf.float32, shape=[])\n",
    "\n",
    "\n",
    "# train_step = tf.train.GradientDescentOptimizer(learning_rate).minimize(loss, global_step = global_step)\n",
    "# train_step = tf.train.MomentumOptimizer(learning_rate, 0.9).minimize(loss, global_step = global_step)\n",
    "train_step = tf.train.AdamOptimizer(learning_rate, 0.85).minimize(loss, global_step = global_step)\n",
    "\n",
    "tf.global_variables_initializer().run()"
   ]
  },
  {
   "cell_type": "code",
   "execution_count": 24,
   "metadata": {},
   "outputs": [
    {
     "name": "stdout",
     "output_type": "stream",
     "text": [
      "epoch   0, global_step =   782, lr = 2.7721e-03: train_loss = 1.0273e+03, train_acc = 0.9543, val_acc = 0.9650\n",
      "epoch   1, global_step =  1564, lr = 2.5616e-03: train_loss = 6.6024e+02, train_acc = 0.9705, val_acc = 0.9693\n",
      "epoch   2, global_step =  2346, lr = 2.3670e-03: train_loss = 4.6701e+02, train_acc = 0.9773, val_acc = 0.9732\n",
      "epoch   3, global_step =  3128, lr = 2.1872e-03: train_loss = 2.7975e+02, train_acc = 0.9823, val_acc = 0.9761\n",
      "epoch   4, global_step =  3910, lr = 2.0211e-03: train_loss = 1.9790e+02, train_acc = 0.9849, val_acc = 0.9782\n",
      "epoch   5, global_step =  4692, lr = 1.8676e-03: train_loss = 2.7643e+02, train_acc = 0.9863, val_acc = 0.9740\n",
      "epoch   6, global_step =  5474, lr = 1.7258e-03: train_loss = 2.5089e+02, train_acc = 0.9921, val_acc = 0.9760\n",
      "epoch   7, global_step =  6256, lr = 1.5947e-03: train_loss = 1.2614e+02, train_acc = 0.9929, val_acc = 0.9773\n",
      "epoch   8, global_step =  7038, lr = 1.4736e-03: train_loss = 7.7695e+01, train_acc = 0.9955, val_acc = 0.9769\n",
      "epoch   9, global_step =  7820, lr = 1.3616e-03: train_loss = 1.0951e+02, train_acc = 0.9963, val_acc = 0.9749\n",
      "epoch  10, global_step =  8602, lr = 1.2582e-03: train_loss = 7.0226e+01, train_acc = 0.9972, val_acc = 0.9771\n",
      "epoch  11, global_step =  9384, lr = 1.1627e-03: train_loss = 4.0547e+01, train_acc = 0.9969, val_acc = 0.9782\n",
      "epoch  12, global_step = 10166, lr = 1.0743e-03: train_loss = 2.7414e+01, train_acc = 0.9988, val_acc = 0.9789\n",
      "epoch  13, global_step = 10948, lr = 9.9274e-04: train_loss = 1.8038e+01, train_acc = 0.9987, val_acc = 0.9786\n",
      "epoch  14, global_step = 11730, lr = 9.1734e-04: train_loss = 1.2059e+01, train_acc = 0.9991, val_acc = 0.9782\n",
      "epoch  15, global_step = 12512, lr = 8.4767e-04: train_loss = 3.6144e+00, train_acc = 0.9998, val_acc = 0.9788\n",
      "epoch  16, global_step = 13294, lr = 7.8328e-04: train_loss = 2.4545e+00, train_acc = 0.9999, val_acc = 0.9799\n",
      "epoch  17, global_step = 14076, lr = 7.2379e-04: train_loss = 2.4559e+01, train_acc = 0.9988, val_acc = 0.9779\n",
      "epoch  18, global_step = 14858, lr = 6.6882e-04: train_loss = 6.1430e+00, train_acc = 0.9993, val_acc = 0.9799\n",
      "epoch  19, global_step = 15640, lr = 6.1802e-04: train_loss = 9.8818e-01, train_acc = 1.0000, val_acc = 0.9811\n",
      "epoch  20, global_step = 16422, lr = 5.7108e-04: train_loss = 6.3844e-01, train_acc = 1.0000, val_acc = 0.9813\n",
      "epoch  21, global_step = 17204, lr = 5.2770e-04: train_loss = 5.1242e-01, train_acc = 1.0000, val_acc = 0.9814\n",
      "epoch  22, global_step = 17986, lr = 4.8762e-04: train_loss = 3.8841e-01, train_acc = 1.0000, val_acc = 0.9813\n",
      "epoch  23, global_step = 18768, lr = 4.5059e-04: train_loss = 3.0958e-01, train_acc = 1.0000, val_acc = 0.9811\n",
      "epoch  24, global_step = 19550, lr = 4.1636e-04: train_loss = 2.4736e-01, train_acc = 1.0000, val_acc = 0.9815\n",
      "epoch  25, global_step = 20332, lr = 3.8474e-04: train_loss = 1.9753e-01, train_acc = 1.0000, val_acc = 0.9813\n",
      "epoch  26, global_step = 21114, lr = 3.5552e-04: train_loss = 1.4956e-01, train_acc = 1.0000, val_acc = 0.9812\n",
      "epoch  27, global_step = 21896, lr = 3.2851e-04: train_loss = 1.2264e-01, train_acc = 1.0000, val_acc = 0.9806\n",
      "epoch  28, global_step = 22678, lr = 3.0356e-04: train_loss = 1.1026e-01, train_acc = 1.0000, val_acc = 0.9808\n",
      "epoch  29, global_step = 23460, lr = 2.8051e-04: train_loss = 7.3694e-02, train_acc = 1.0000, val_acc = 0.9806\n",
      "CPU times: user 3min 15s, sys: 35.8 s, total: 3min 51s\n",
      "Wall time: 2min 26s\n"
     ]
    }
   ],
   "source": [
    "%%time\n",
    "\n",
    "lr = 0.5\n",
    "be1 = 0.9\n",
    "be2 = 0.999\n",
    "\n",
    "train_losses = []\n",
    "train_accs = []\n",
    "val_accs = []\n",
    "\n",
    "beta_train_acc = 0.99\n",
    "train_acc = 0\n",
    "\n",
    "for epoch in range(30):\n",
    "    \n",
    "    train_mini_batches = random_mini_batches(X_train, y_train, mini_batch_size = 64, seed = int(time.time() * 1000 % 1024))\n",
    "    \n",
    "    for minibatch_X_train, minibatch_y_train in train_mini_batches:\n",
    "        feed_dict = {x : minibatch_X_train, \n",
    "                     y_ : minibatch_y_train,\n",
    "#                      learning_rate : lr,\n",
    "#                      beta1 : be1,\n",
    "#                      beta2 : be2\n",
    "                    }\n",
    "        _, train_acc_batch = s.run([train_step, acc], feed_dict)\n",
    "        \n",
    "        train_acc = beta_train_acc * train_acc + (1 - beta_train_acc) * train_acc_batch\n",
    "        \n",
    "    train_loss = s.run(loss, feed_dict={x : X_train, y_ : y_train})\n",
    "    val_acc = s.run(acc, feed_dict={x : X_val, y_ : y_val})\n",
    "#     test_acc = s.run(acc, feed_dict={x : X_test, y_ : y_test})\n",
    "    train_losses.append(train_loss)\n",
    "    val_accs.append(val_acc)\n",
    "    lr, gs = s.run([learning_rate, global_step])\n",
    "    \n",
    "    \n",
    "    print(\"epoch {:3d}, global_step = {:5d}, lr = {:.4e}: train_loss = {:.4e}, train_acc = {:.4f}, val_acc = {:.4f}\".format(\n",
    "        epoch, gs, lr, train_loss * 10000, train_acc, val_acc))"
   ]
  },
  {
   "cell_type": "code",
   "execution_count": 25,
   "metadata": {},
   "outputs": [
    {
     "name": "stdout",
     "output_type": "stream",
     "text": [
      "Final test accuracy is: 0.9806\n"
     ]
    }
   ],
   "source": [
    "test_acc = s.run(acc, feed_dict={x : X_test, y_ : y_test})\n",
    "print('Final test accuracy is: {:.4f}'.format(test_acc)) "
   ]
  },
  {
   "cell_type": "code",
   "execution_count": 26,
   "metadata": {},
   "outputs": [
    {
     "data": {
      "text/plain": [
       "[<matplotlib.lines.Line2D at 0x7f3ba0064278>]"
      ]
     },
     "execution_count": 26,
     "metadata": {},
     "output_type": "execute_result"
    },
    {
     "data": {
      "image/png": "[encoded data removed]",
      "text/plain": [
       "<matplotlib.figure.Figure at 0x7f3ba7f01a90>"
      ]
     },
     "metadata": {},
     "output_type": "display_data"
    }
   ],
   "source": [
    "plt.subplot(1, 2, 1)\n",
    "plt.plot(np.arange(len(train_losses)), train_losses)\n",
    "\n",
    "plt.subplot(1, 2, 2)\n",
    "plt.plot(np.arange(len(train_losses)), val_accs)"
   ]
  },
  {
   "cell_type": "code",
   "execution_count": null,
   "metadata": {
    "collapsed": true
   },
   "outputs": [],
   "source": []
  },
  {
   "cell_type": "code",
   "execution_count": null,
   "metadata": {
    "collapsed": true
   },
   "outputs": [],
   "source": []
  },
  {
   "cell_type": "code",
   "execution_count": null,
   "metadata": {
    "collapsed": true
   },
   "outputs": [],
   "source": []
  }
 ],
 "metadata": {
  "kernelspec": {
   "display_name": "Python 3",
   "language": "python",
   "name": "python3"
  },
  "language_info": {
   "codemirror_mode": {
    "name": "ipython",
    "version": 3
   },
   "file_extension": ".py",
   "mimetype": "text/x-python",
   "name": "python",
   "nbconvert_exporter": "python",
   "pygments_lexer": "ipython3",
   "version": "3.6.0"
  }
 },
 "nbformat": 4,
 "nbformat_minor": 2
}
