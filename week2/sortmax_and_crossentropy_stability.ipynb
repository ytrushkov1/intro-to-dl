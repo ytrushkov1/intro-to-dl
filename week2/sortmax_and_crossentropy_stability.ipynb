{
 "cells": [
  {
   "cell_type": "code",
   "execution_count": 1,
   "metadata": {},
   "outputs": [],
   "source": [
    "import numpy as np"
   ]
  },
  {
   "cell_type": "code",
   "execution_count": 2,
   "metadata": {},
   "outputs": [],
   "source": [
    "def softmax1(logits, axis=1):\n",
    "    '''unstable softmax'''\n",
    "    \n",
    "    exps = np.exp(logits)\n",
    "    return exps / np.sum(exps, axis=axis, keepdims=True)\n",
    "\n",
    "def softmax2(logits, axis=1):\n",
    "    '''stable softmax'''\n",
    "    \n",
    "    exps = np.exp(logits - np.max(logits, axis=axis, keepdims=True))\n",
    "    return exps / np.sum(exps, axis=axis, keepdims=True)"
   ]
  },
  {
   "cell_type": "code",
   "execution_count": 3,
   "metadata": {},
   "outputs": [],
   "source": [
    "logits = np.linspace(-1, 500, 500).reshape([50, 10])\n",
    "assert np.allclose(softmax1(logits), softmax2(logits)), \"Softmaxes differ\""
   ]
  },
  {
   "cell_type": "code",
   "execution_count": 4,
   "metadata": {},
   "outputs": [
    {
     "name": "stdout",
     "output_type": "stream",
     "text": [
      "[[ 0. nan nan nan nan nan nan nan nan nan]\n",
      " [nan nan nan nan nan nan nan nan nan nan]\n",
      " [nan nan nan nan nan nan nan nan nan nan]]\n"
     ]
    },
    {
     "name": "stderr",
     "output_type": "stream",
     "text": [
      "/home/ubuntu/anaconda3/envs/tensorflow_p36/lib/python3.6/site-packages/ipykernel/__main__.py:4: RuntimeWarning: overflow encountered in exp\n",
      "/home/ubuntu/anaconda3/envs/tensorflow_p36/lib/python3.6/site-packages/ipykernel/__main__.py:5: RuntimeWarning: invalid value encountered in true_divide\n"
     ]
    }
   ],
   "source": [
    "logits = np.linspace(-1, 5e5, 500).reshape([50, 10])\n",
    "_ = softmax1(logits)\n",
    "print(_[:3])"
   ]
  },
  {
   "cell_type": "code",
   "execution_count": 5,
   "metadata": {},
   "outputs": [
    {
     "name": "stdout",
     "output_type": "stream",
     "text": [
      "[[0. 0. 0. 0. 0. 0. 0. 0. 0. 1.]\n",
      " [0. 0. 0. 0. 0. 0. 0. 0. 0. 1.]\n",
      " [0. 0. 0. 0. 0. 0. 0. 0. 0. 1.]]\n"
     ]
    }
   ],
   "source": [
    "_ = softmax2(logits)\n",
    "print(_[:3])"
   ]
  },
  {
   "cell_type": "code",
   "execution_count": 6,
   "metadata": {},
   "outputs": [],
   "source": [
    "# softmax2 is stable version\n",
    "softmax = softmax2\n",
    "\n",
    "# last check\n",
    "logits = np.linspace(-1, 5e5, 500).reshape([50, 10])\n",
    "_ = softmax(logits)"
   ]
  },
  {
   "cell_type": "markdown",
   "metadata": {},
   "source": [
    "Let't find a stable version of cross entropy"
   ]
  },
  {
   "cell_type": "code",
   "execution_count": 7,
   "metadata": {},
   "outputs": [],
   "source": [
    "def softmax_crossentropy_with_logits1(logits, reference_answers):\n",
    "    \"\"\"Compute crossentropy from logits[batch,n_classes] and ids of correct answers\"\"\"\n",
    "   \n",
    "    # this is unstable code. I experienced numerical over and under flows\n",
    "    logits_for_answers = logits[np.arange(len(logits)),reference_answers]\n",
    "    xentropy = - logits_for_answers + np.log(np.sum(np.exp(logits),axis=-1))\n",
    "    \n",
    "    return xentropy\n",
    "\n",
    "def softmax_crossentropy_with_logits2(logits, reference_answers):\n",
    "    \"\"\"Compute crossentropy from logits[batch,n_classes] and ids of correct answers\"\"\"\n",
    "    \n",
    "    proba = softmax(logits, axis=1)\n",
    "    xentropy = -np.log(proba[range(len(logits)), reference_answers])\n",
    "       \n",
    "    return xentropy\n",
    "\n",
    "def softmax_crossentropy_with_logits3(logits, reference_answers):\n",
    "    \"\"\"Compute crossentropy from logits[batch,n_classes] and ids of correct answers\"\"\"\n",
    "   \n",
    "    logits = logits - logits.max(axis=1, keepdims=True)\n",
    "    logits_for_answers = logits[np.arange(len(logits)),reference_answers]\n",
    "    xentropy = - logits_for_answers + np.log(np.sum(np.exp(logits),axis=-1))\n",
    "    \n",
    "    return xentropy"
   ]
  },
  {
   "cell_type": "code",
   "execution_count": 8,
   "metadata": {},
   "outputs": [],
   "source": [
    "# check implementations are correct\n",
    "\n",
    "logits = np.linspace(-1,1,500).reshape([50,10])\n",
    "answers = np.arange(50)%10\n",
    "loss1 = softmax_crossentropy_with_logits1(logits, answers) \n",
    "loss2 = softmax_crossentropy_with_logits2(logits, answers)\n",
    "loss3 = softmax_crossentropy_with_logits3(logits, answers)\n",
    "\n",
    "assert np.allclose(loss1, loss2), \"loss1 != loss2\"\n",
    "assert np.allclose(loss2, loss3), \"loss2 != loss3\""
   ]
  },
  {
   "cell_type": "code",
   "execution_count": 9,
   "metadata": {},
   "outputs": [],
   "source": [
    "# Test stability\n",
    "\n",
    "logits = np.linspace(-1,1e5,500).reshape([50,10])\n",
    "answers = np.arange(50)%10"
   ]
  },
  {
   "cell_type": "code",
   "execution_count": 10,
   "metadata": {},
   "outputs": [
    {
     "name": "stdout",
     "output_type": "stream",
     "text": [
      "[inf inf inf]\n"
     ]
    },
    {
     "name": "stderr",
     "output_type": "stream",
     "text": [
      "/home/ubuntu/anaconda3/envs/tensorflow_p36/lib/python3.6/site-packages/ipykernel/__main__.py:6: RuntimeWarning: overflow encountered in exp\n"
     ]
    }
   ],
   "source": [
    "print(softmax_crossentropy_with_logits1(logits, answers)[:3])"
   ]
  },
  {
   "cell_type": "code",
   "execution_count": 11,
   "metadata": {},
   "outputs": [
    {
     "name": "stdout",
     "output_type": "stream",
     "text": [
      "[inf inf inf]\n"
     ]
    },
    {
     "name": "stderr",
     "output_type": "stream",
     "text": [
      "/home/ubuntu/anaconda3/envs/tensorflow_p36/lib/python3.6/site-packages/ipykernel/__main__.py:14: RuntimeWarning: divide by zero encountered in log\n"
     ]
    }
   ],
   "source": [
    "print(softmax_crossentropy_with_logits2(logits, answers)[:3])"
   ]
  },
  {
   "cell_type": "code",
   "execution_count": 12,
   "metadata": {},
   "outputs": [
    {
     "name": "stdout",
     "output_type": "stream",
     "text": [
      "[1803.6252505  1603.22244489 1402.81963928]\n"
     ]
    }
   ],
   "source": [
    "print(softmax_crossentropy_with_logits3(logits, answers)[:3])"
   ]
  },
  {
   "cell_type": "code",
   "execution_count": 13,
   "metadata": {},
   "outputs": [
    {
     "name": "stdout",
     "output_type": "stream",
     "text": [
      "[1803.6252505  1603.22244489 1402.81963928]\n"
     ]
    }
   ],
   "source": [
    "# softmax_crossentropy_with_logits3 is stable version\n",
    "softmax_crossentropy_with_logits = softmax_crossentropy_with_logits3\n",
    "\n",
    "# last check\n",
    "print(softmax_crossentropy_with_logits(logits, answers)[:3])"
   ]
  },
  {
   "cell_type": "markdown",
   "metadata": {},
   "source": [
    "Let't find a stable version of cross entropy gradient"
   ]
  },
  {
   "cell_type": "code",
   "execution_count": 14,
   "metadata": {},
   "outputs": [],
   "source": [
    "def grad_softmax_crossentropy_with_logits1(logits,reference_answers):\n",
    "    \"\"\"Compute crossentropy gradient from logits[batch,n_classes] and ids of correct answers\"\"\"\n",
    "    ones_for_answers = np.zeros_like(logits)\n",
    "    ones_for_answers[np.arange(len(logits)),reference_answers] = 1\n",
    "    \n",
    "    softmax = np.exp(logits) / np.exp(logits).sum(axis=-1,keepdims=True)\n",
    "    \n",
    "    return (- ones_for_answers + softmax) / logits.shape[0]\n",
    "\n",
    "def grad_softmax_crossentropy_with_logits2(logits, reference_answers):\n",
    "    \"\"\"Compute crossentropy gradient from logits[batch,n_classes] and ids of correct answers\"\"\"\n",
    "    ones_for_answers = np.zeros_like(logits)\n",
    "    ones_for_answers[np.arange(len(logits)), reference_answers] = 1\n",
    "        \n",
    "    return (softmax(logits) - ones_for_answers) / logits.shape[0]"
   ]
  },
  {
   "cell_type": "code",
   "execution_count": 15,
   "metadata": {},
   "outputs": [],
   "source": [
    "# check implementations are correct\n",
    "\n",
    "logits = np.linspace(-1,1,500).reshape([50,10])\n",
    "answers = np.arange(50)%10\n",
    "grad1 = grad_softmax_crossentropy_with_logits1(logits, answers)\n",
    "grad2 = grad_softmax_crossentropy_with_logits2(logits, answers)\n",
    "\n",
    "assert np.allclose(grad1, grad2), \"grad1 != grad2\""
   ]
  },
  {
   "cell_type": "code",
   "execution_count": 16,
   "metadata": {},
   "outputs": [],
   "source": [
    "# Test stability\n",
    "\n",
    "logits = np.linspace(-1,1e5,500).reshape([50,10])\n",
    "answers = np.arange(50)%10"
   ]
  },
  {
   "cell_type": "code",
   "execution_count": 17,
   "metadata": {},
   "outputs": [
    {
     "name": "stdout",
     "output_type": "stream",
     "text": [
      "[[-0.02  0.    0.    0.     nan   nan   nan   nan   nan   nan]\n",
      " [  nan   nan   nan   nan   nan   nan   nan   nan   nan   nan]\n",
      " [  nan   nan   nan   nan   nan   nan   nan   nan   nan   nan]]\n"
     ]
    },
    {
     "name": "stderr",
     "output_type": "stream",
     "text": [
      "/home/ubuntu/anaconda3/envs/tensorflow_p36/lib/python3.6/site-packages/ipykernel/__main__.py:6: RuntimeWarning: overflow encountered in exp\n",
      "/home/ubuntu/anaconda3/envs/tensorflow_p36/lib/python3.6/site-packages/ipykernel/__main__.py:6: RuntimeWarning: invalid value encountered in true_divide\n"
     ]
    }
   ],
   "source": [
    "print(grad_softmax_crossentropy_with_logits1(logits, answers)[:3])"
   ]
  },
  {
   "cell_type": "code",
   "execution_count": 18,
   "metadata": {},
   "outputs": [
    {
     "name": "stdout",
     "output_type": "stream",
     "text": [
      "[[-2.00000000e-002  0.00000000e+000  0.00000000e+000  0.00000000e+000\n",
      "   0.00000000e+000  0.00000000e+000  1.58318655e-263  1.71145201e-176\n",
      "   1.85010919e-089  2.00000000e-002]\n",
      " [ 0.00000000e+000 -2.00000000e-002  0.00000000e+000  0.00000000e+000\n",
      "   0.00000000e+000  0.00000000e+000  1.58318655e-263  1.71145201e-176\n",
      "   1.85010919e-089  2.00000000e-002]\n",
      " [ 0.00000000e+000  0.00000000e+000 -2.00000000e-002  0.00000000e+000\n",
      "   0.00000000e+000  0.00000000e+000  1.58318655e-263  1.71145201e-176\n",
      "   1.85010919e-089  2.00000000e-002]]\n"
     ]
    }
   ],
   "source": [
    "print(grad_softmax_crossentropy_with_logits2(logits, answers)[:3])"
   ]
  },
  {
   "cell_type": "code",
   "execution_count": 19,
   "metadata": {},
   "outputs": [
    {
     "name": "stdout",
     "output_type": "stream",
     "text": [
      "[[-2.00000000e-002  0.00000000e+000  0.00000000e+000  0.00000000e+000\n",
      "   0.00000000e+000  0.00000000e+000  1.58318655e-263  1.71145201e-176\n",
      "   1.85010919e-089  2.00000000e-002]\n",
      " [ 0.00000000e+000 -2.00000000e-002  0.00000000e+000  0.00000000e+000\n",
      "   0.00000000e+000  0.00000000e+000  1.58318655e-263  1.71145201e-176\n",
      "   1.85010919e-089  2.00000000e-002]\n",
      " [ 0.00000000e+000  0.00000000e+000 -2.00000000e-002  0.00000000e+000\n",
      "   0.00000000e+000  0.00000000e+000  1.58318655e-263  1.71145201e-176\n",
      "   1.85010919e-089  2.00000000e-002]]\n"
     ]
    }
   ],
   "source": [
    "# softmax_crossentropy_with_logits3 is stable version\n",
    "grad_softmax_crossentropy_with_logits = grad_softmax_crossentropy_with_logits2\n",
    "\n",
    "# last check\n",
    "print(grad_softmax_crossentropy_with_logits(logits, answers)[:3])"
   ]
  }
 ],
 "metadata": {
  "kernelspec": {
   "display_name": "Python [conda env:tensorflow_p36]",
   "language": "python",
   "name": "conda-env-tensorflow_p36-py"
  },
  "language_info": {
   "codemirror_mode": {
    "name": "ipython",
    "version": 3
   },
   "file_extension": ".py",
   "mimetype": "text/x-python",
   "name": "python",
   "nbconvert_exporter": "python",
   "pygments_lexer": "ipython3",
   "version": "3.6.6"
  },
  "toc": {
   "colors": {
    "hover_highlight": "#DAA520",
    "navigate_num": "#000000",
    "navigate_text": "#333333",
    "running_highlight": "#FF0000",
    "selected_highlight": "#FFD700",
    "sidebar_border": "#EEEEEE",
    "wrapper_background": "#FFFFFF"
   },
   "moveMenuLeft": true,
   "nav_menu": {
    "height": "264px",
    "width": "252px"
   },
   "navigate_menu": true,
   "number_sections": true,
   "sideBar": true,
   "threshold": 4,
   "toc_cell": false,
   "toc_section_display": "block",
   "toc_window_display": false,
   "widenNotebook": false
  }
 },
 "nbformat": 4,
 "nbformat_minor": 2
}
